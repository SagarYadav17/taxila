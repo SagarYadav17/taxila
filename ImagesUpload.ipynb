{
 "cells": [
  {
   "cell_type": "code",
   "execution_count": 29,
   "metadata": {},
   "outputs": [],
   "source": [
    "from config import django_initialize\n",
    "import pandas\n",
    "from test_app.models import KitchenCategory, KitchenItem, Material\n",
    "import glob"
   ]
  },
  {
   "cell_type": "code",
   "execution_count": 45,
   "metadata": {},
   "outputs": [],
   "source": [
    "base_url = 'https://taxilastone.com/wp-content/uploads/'\n",
    "\n",
    "for item in glob.glob(\"./Images/Quartzite/**/*.webp\", recursive=True):\n",
    "    name = (item.split(\"\\\\\")[-2])\n",
    "    file_path = item.removeprefix(\"./\").replace(\"\\\\\", \"/\")\n",
    "\n",
    "    material = Material.objects.filter(name=name).first()\n",
    "    if material:\n",
    "        material.images += (base_url + file_path + ',')\n",
    "        material.save()"
   ]
  }
 ],
 "metadata": {
  "kernelspec": {
   "display_name": "Python 3.10.6 ('taxila')",
   "language": "python",
   "name": "python3"
  },
  "language_info": {
   "codemirror_mode": {
    "name": "ipython",
    "version": 3
   },
   "file_extension": ".py",
   "mimetype": "text/x-python",
   "name": "python",
   "nbconvert_exporter": "python",
   "pygments_lexer": "ipython3",
   "version": "3.10.6"
  },
  "orig_nbformat": 4,
  "vscode": {
   "interpreter": {
    "hash": "4e9db7760a29fd6c5419c27f34ef6e578fbc53b6601c601267ae34460c1caebe"
   }
  }
 },
 "nbformat": 4,
 "nbformat_minor": 2
}
